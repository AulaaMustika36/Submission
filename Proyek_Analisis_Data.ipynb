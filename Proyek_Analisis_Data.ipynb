{
  "cells": [
    {
      "cell_type": "markdown",
      "metadata": {
        "id": "H9wADwK78DCz"
      },
      "source": [
        "# Proyek Analisis Data: [E-Commerce Public Dataset]\n",
        "- **Nama:** [Aulaa Mustika]\n",
        "- **Email:** [aulaamustika0364@student.uns.ac.id]\n",
        "- **ID Dicoding:** [MC312D5X2481]"
      ]
    },
    {
      "cell_type": "markdown",
      "metadata": {
        "id": "eE0raob58DC0"
      },
      "source": [
        "## Menentukan Pertanyaan Bisnis\n"
      ]
    },
    {
      "cell_type": "markdown",
      "metadata": {
        "id": "GmQeQ5YF8DC0"
      },
      "source": [
        "- Bagaimana karakteristik pelanggan dalam berbelanja dan memberikan pendapatan bagi bisnis?\n",
        "- Wilayah mana yang perlu ditingkatkan pemasaran dan diperbaiki layanan pengirimannya?\n",
        "- Produk apa yang memberikan kontribusi terbesar dan terkecil terhadap pendapatan bisnis?\n",
        "- Bagaimana pola permintaan pelanggan sepanjang tahun dan apakah ada tren musiman yang dapat dimanfaatkan?\n",
        "- Berapa persentase masing-masing status pesanan?"
      ]
    },
    {
      "cell_type": "markdown",
      "metadata": {
        "id": "H-z4QGlO8DC1"
      },
      "source": [
        "## Import Semua Packages/Library yang Digunakan"
      ]
    },
    {
      "cell_type": "code",
      "execution_count": null,
      "metadata": {
        "id": "FVYwaObI8DC1"
      },
      "outputs": [
        {
          "ename": "",
          "evalue": "",
          "output_type": "error",
          "traceback": [
            "\u001b[1;31mRunning cells with 'main-ds (Python 3.12.3)' requires the ipykernel package.\n",
            "\u001b[1;31mRun the following command to install 'ipykernel' into the Python environment. \n",
            "\u001b[1;31mCommand: 'conda install -n main-ds ipykernel --update-deps --force-reinstall'"
          ]
        }
      ],
      "source": [
        "import pandas as pd\n",
        "import numpy as np\n",
        "import seaborn as sns\n",
        "import matplotlib.pyplot as plt\n",
        "import datetime"
      ]
    },
    {
      "cell_type": "markdown",
      "metadata": {
        "id": "h_Sh51Xy8DC1"
      },
      "source": [
        "## Data Wrangling"
      ]
    },
    {
      "cell_type": "markdown",
      "metadata": {
        "id": "sXU2GBYu8DC1"
      },
      "source": [
        "### Gathering Data"
      ]
    },
    {
      "cell_type": "code",
      "execution_count": null,
      "metadata": {
        "colab": {
          "base_uri": "https://localhost:8080/",
          "height": 226
        },
        "id": "zjCBk1BI8DC1",
        "outputId": "2a0e5b9a-f342-4388-a0ca-81b2cf734d11"
      },
      "outputs": [
        {
          "ename": "",
          "evalue": "",
          "output_type": "error",
          "traceback": [
            "\u001b[1;31mRunning cells with 'main-ds (Python 3.12.3)' requires the ipykernel package.\n",
            "\u001b[1;31mRun the following command to install 'ipykernel' into the Python environment. \n",
            "\u001b[1;31mCommand: 'conda install -n main-ds ipykernel --update-deps --force-reinstall'"
          ]
        }
      ],
      "source": [
        "#Load Tabel orders\n",
        "orders_df = pd.read_csv(\"/content/orders_dataset.csv\",delimiter=\",\")\n",
        "orders_df.head()\n"
      ]
    },
    {
      "cell_type": "code",
      "execution_count": null,
      "metadata": {
        "colab": {
          "base_uri": "https://localhost:8080/",
          "height": 226
        },
        "id": "je14cBtujYel",
        "outputId": "6765094e-74ba-4c75-8bb6-e8e58160a3b8"
      },
      "outputs": [
        {
          "ename": "",
          "evalue": "",
          "output_type": "error",
          "traceback": [
            "\u001b[1;31mRunning cells with 'main-ds (Python 3.12.3)' requires the ipykernel package.\n",
            "\u001b[1;31mRun the following command to install 'ipykernel' into the Python environment. \n",
            "\u001b[1;31mCommand: 'conda install -n main-ds ipykernel --update-deps --force-reinstall'"
          ]
        }
      ],
      "source": [
        "#Load Tabel order_items\n",
        "order_items_df = pd.read_csv(\"/content/order_items_dataset.csv\",delimiter=\",\")\n",
        "order_items_df.head()"
      ]
    },
    {
      "cell_type": "code",
      "execution_count": null,
      "metadata": {
        "colab": {
          "base_uri": "https://localhost:8080/",
          "height": 206
        },
        "id": "_DynbmPell_M",
        "outputId": "6c452360-e7d2-4847-e456-44545719480c"
      },
      "outputs": [
        {
          "ename": "",
          "evalue": "",
          "output_type": "error",
          "traceback": [
            "\u001b[1;31mRunning cells with 'main-ds (Python 3.12.3)' requires the ipykernel package.\n",
            "\u001b[1;31mRun the following command to install 'ipykernel' into the Python environment. \n",
            "\u001b[1;31mCommand: 'conda install -n main-ds ipykernel --update-deps --force-reinstall'"
          ]
        }
      ],
      "source": [
        "#Load Tabel customers\n",
        "customers_df = pd.read_csv(\"/content/customers_dataset.csv\",delimiter=\",\")\n",
        "customers_df.head()"
      ]
    },
    {
      "cell_type": "code",
      "execution_count": null,
      "metadata": {
        "colab": {
          "base_uri": "https://localhost:8080/",
          "height": 226
        },
        "id": "KE45-DHNl1GA",
        "outputId": "5f315284-4cd3-41f8-be83-82574907899c"
      },
      "outputs": [
        {
          "ename": "",
          "evalue": "",
          "output_type": "error",
          "traceback": [
            "\u001b[1;31mRunning cells with 'main-ds (Python 3.12.3)' requires the ipykernel package.\n",
            "\u001b[1;31mRun the following command to install 'ipykernel' into the Python environment. \n",
            "\u001b[1;31mCommand: 'conda install -n main-ds ipykernel --update-deps --force-reinstall'"
          ]
        }
      ],
      "source": [
        "#Load Tabel products\n",
        "products_df = pd.read_csv(\"/content/products_dataset.csv\",delimiter=\",\")\n",
        "products_df.head()"
      ]
    },
    {
      "cell_type": "code",
      "execution_count": null,
      "metadata": {
        "colab": {
          "base_uri": "https://localhost:8080/",
          "height": 206
        },
        "id": "mD5YD74R34N3",
        "outputId": "adf12e9c-6e01-4b39-bb5a-1ccefffd2647"
      },
      "outputs": [
        {
          "ename": "",
          "evalue": "",
          "output_type": "error",
          "traceback": [
            "\u001b[1;31mRunning cells with 'main-ds (Python 3.12.3)' requires the ipykernel package.\n",
            "\u001b[1;31mRun the following command to install 'ipykernel' into the Python environment. \n",
            "\u001b[1;31mCommand: 'conda install -n main-ds ipykernel --update-deps --force-reinstall'"
          ]
        }
      ],
      "source": [
        "#Load Tabel product_category_translation\n",
        "product_category_translation_df = pd.read_csv(\"/content/product_category_name_translation.csv\",delimiter=\",\")\n",
        "product_category_translation_df.head()"
      ]
    },
    {
      "cell_type": "markdown",
      "metadata": {
        "id": "MMi6xGaDkbCi"
      },
      "source": [
        "**Insight:**\n",
        "Terdapat 4 Tabel yang digunakan, yaitu:\n",
        "- **Tabel orders** : berisi informasi mengenai pesanan dengan pelanggan, seperti order_id,\tcustomer_id,order_status,\torder_purchase_timestamp,\torder_approved_at,\torder_delivered_carrier_date,\torder_delivered_customer_date, dan\torder_estimated_delivery_date\n",
        "- **Tabel order_items** : berisi detail barang yang dibeli dalam setiap pesanan, seperti order_id,\torder_item_id,\tproduct_id,\tseller_id,\tshipping_limit_date, dan\tprice\tfreight_value\n",
        "- **Tabel customers** : berisi data pelanggan, seperti customer_id,\tcustomer_unique_id,\tcustomer_zip_code_prefix,\tcustomer_city,\tdan customer_state\n",
        "- **Tabel products** : berisi data produk, seperti product_id,\tproduct_category_name,\tproduct_name_lenght,\tproduct_description_lenght,\tproduct_photos_qty,\tproduct_weight_g,\tproduct_length_cm,\tproduct_height_cm,\tdan product_width_cm\n",
        "- **Tabel product_category_translation** : terjemahan kategori produk, seperti product_category_name dan\tproduct_category_name_english\n",
        "\n"
      ]
    },
    {
      "cell_type": "markdown",
      "metadata": {
        "id": "FHSiqaZp8DC1"
      },
      "source": [
        "### Assessing Data"
      ]
    },
    {
      "cell_type": "code",
      "execution_count": null,
      "metadata": {
        "colab": {
          "base_uri": "https://localhost:8080/",
          "height": 595
        },
        "id": "ax-3tEjc9Cj1",
        "outputId": "7525af37-1561-4259-81a3-bdbdd10e8917"
      },
      "outputs": [
        {
          "ename": "",
          "evalue": "",
          "output_type": "error",
          "traceback": [
            "\u001b[1;31mRunning cells with 'main-ds (Python 3.12.3)' requires the ipykernel package.\n",
            "\u001b[1;31mRun the following command to install 'ipykernel' into the Python environment. \n",
            "\u001b[1;31mCommand: 'conda install -n main-ds ipykernel --update-deps --force-reinstall'"
          ]
        }
      ],
      "source": [
        "#Menilai Data orders_df\n",
        "orders_df.info()\n",
        "\n",
        "orders_df.isna().sum()"
      ]
    },
    {
      "cell_type": "code",
      "execution_count": null,
      "metadata": {
        "colab": {
          "base_uri": "https://localhost:8080/",
          "height": 443
        },
        "id": "WTCbKQE78c99",
        "outputId": "5dcf0887-09f4-4471-8a45-eca1e32cdb67"
      },
      "outputs": [
        {
          "ename": "",
          "evalue": "",
          "output_type": "error",
          "traceback": [
            "\u001b[1;31mRunning cells with 'main-ds (Python 3.12.3)' requires the ipykernel package.\n",
            "\u001b[1;31mRun the following command to install 'ipykernel' into the Python environment. \n",
            "\u001b[1;31mCommand: 'conda install -n main-ds ipykernel --update-deps --force-reinstall'"
          ]
        }
      ],
      "source": [
        "#Memastikan missing value\n",
        "orders_df[orders_df.order_approved_at.isna()]"
      ]
    },
    {
      "cell_type": "code",
      "execution_count": null,
      "metadata": {
        "colab": {
          "base_uri": "https://localhost:8080/",
          "height": 178
        },
        "id": "4BBJckur9-Yf",
        "outputId": "2d1bd983-3729-4fcf-8335-d97e1354f395"
      },
      "outputs": [
        {
          "ename": "",
          "evalue": "",
          "output_type": "error",
          "traceback": [
            "\u001b[1;31mRunning cells with 'main-ds (Python 3.12.3)' requires the ipykernel package.\n",
            "\u001b[1;31mRun the following command to install 'ipykernel' into the Python environment. \n",
            "\u001b[1;31mCommand: 'conda install -n main-ds ipykernel --update-deps --force-reinstall'"
          ]
        }
      ],
      "source": [
        "orders_df.loc[orders_df[\"order_status\"] == \"canceled\",\n",
        "              [\"order_approved_at\", \"order_delivered_carrier_date\", \"order_delivered_customer_date\"]].isna().all()"
      ]
    },
    {
      "cell_type": "code",
      "execution_count": null,
      "metadata": {
        "colab": {
          "base_uri": "https://localhost:8080/"
        },
        "id": "XGQEKD4KC9Yo",
        "outputId": "cd8f1b90-1440-4e82-b91a-8d6838e5dd22"
      },
      "outputs": [
        {
          "ename": "",
          "evalue": "",
          "output_type": "error",
          "traceback": [
            "\u001b[1;31mRunning cells with 'main-ds (Python 3.12.3)' requires the ipykernel package.\n",
            "\u001b[1;31mRun the following command to install 'ipykernel' into the Python environment. \n",
            "\u001b[1;31mCommand: 'conda install -n main-ds ipykernel --update-deps --force-reinstall'"
          ]
        }
      ],
      "source": [
        "#mengecek Duplikasi\n",
        "print(\"Jumlah duplikasi: \", orders_df.duplicated().sum())"
      ]
    },
    {
      "cell_type": "code",
      "execution_count": null,
      "metadata": {
        "colab": {
          "base_uri": "https://localhost:8080/",
          "height": 546
        },
        "id": "R07n2OWJ4mnD",
        "outputId": "dfd1fb56-7077-41d2-f3b0-3d3deb421d5a"
      },
      "outputs": [
        {
          "ename": "",
          "evalue": "",
          "output_type": "error",
          "traceback": [
            "\u001b[1;31mRunning cells with 'main-ds (Python 3.12.3)' requires the ipykernel package.\n",
            "\u001b[1;31mRun the following command to install 'ipykernel' into the Python environment. \n",
            "\u001b[1;31mCommand: 'conda install -n main-ds ipykernel --update-deps --force-reinstall'"
          ]
        }
      ],
      "source": [
        "#Menilai Data order_items_df\n",
        "order_items_df.info()\n",
        "\n",
        "order_items_df.isna().sum()"
      ]
    },
    {
      "cell_type": "code",
      "execution_count": null,
      "metadata": {
        "colab": {
          "base_uri": "https://localhost:8080/",
          "height": 317
        },
        "id": "PXfEgVoGIvFS",
        "outputId": "441a2135-222d-4bc8-ba14-2bcebec53c1c"
      },
      "outputs": [
        {
          "ename": "",
          "evalue": "",
          "output_type": "error",
          "traceback": [
            "\u001b[1;31mRunning cells with 'main-ds (Python 3.12.3)' requires the ipykernel package.\n",
            "\u001b[1;31mRun the following command to install 'ipykernel' into the Python environment. \n",
            "\u001b[1;31mCommand: 'conda install -n main-ds ipykernel --update-deps --force-reinstall'"
          ]
        }
      ],
      "source": [
        "print(\"Jumlah duplikasi: \", order_items_df.duplicated().sum())\n",
        "\n",
        "order_items_df.describe()"
      ]
    },
    {
      "cell_type": "code",
      "execution_count": null,
      "metadata": {
        "colab": {
          "base_uri": "https://localhost:8080/",
          "height": 449
        },
        "id": "KeFK_-nc4nMB",
        "outputId": "ea64c7ee-a991-436c-ba9c-c5be5c120e0c"
      },
      "outputs": [
        {
          "ename": "",
          "evalue": "",
          "output_type": "error",
          "traceback": [
            "\u001b[1;31mRunning cells with 'main-ds (Python 3.12.3)' requires the ipykernel package.\n",
            "\u001b[1;31mRun the following command to install 'ipykernel' into the Python environment. \n",
            "\u001b[1;31mCommand: 'conda install -n main-ds ipykernel --update-deps --force-reinstall'"
          ]
        }
      ],
      "source": [
        "#Menilai Data customers_df\n",
        "customers_df.info()\n",
        "\n",
        "customers_df.isna().sum()"
      ]
    },
    {
      "cell_type": "code",
      "execution_count": null,
      "metadata": {
        "colab": {
          "base_uri": "https://localhost:8080/",
          "height": 317
        },
        "id": "10zH9-K1QIvF",
        "outputId": "9ae79af9-bcfc-4a48-c0b8-89736b555a41"
      },
      "outputs": [
        {
          "ename": "",
          "evalue": "",
          "output_type": "error",
          "traceback": [
            "\u001b[1;31mRunning cells with 'main-ds (Python 3.12.3)' requires the ipykernel package.\n",
            "\u001b[1;31mRun the following command to install 'ipykernel' into the Python environment. \n",
            "\u001b[1;31mCommand: 'conda install -n main-ds ipykernel --update-deps --force-reinstall'"
          ]
        }
      ],
      "source": [
        "print(\"Jumlah duplikasi: \", customers_df.duplicated().sum())\n",
        "\n",
        "customers_df.describe()"
      ]
    },
    {
      "cell_type": "code",
      "execution_count": null,
      "metadata": {
        "colab": {
          "base_uri": "https://localhost:8080/",
          "height": 644
        },
        "id": "DYI0eyTt4nYd",
        "outputId": "280198ee-5186-43d0-d636-acc40786831d"
      },
      "outputs": [
        {
          "ename": "",
          "evalue": "",
          "output_type": "error",
          "traceback": [
            "\u001b[1;31mRunning cells with 'main-ds (Python 3.12.3)' requires the ipykernel package.\n",
            "\u001b[1;31mRun the following command to install 'ipykernel' into the Python environment. \n",
            "\u001b[1;31mCommand: 'conda install -n main-ds ipykernel --update-deps --force-reinstall'"
          ]
        }
      ],
      "source": [
        "#Menilai Data products_df\n",
        "products_df.info()\n",
        "\n",
        "products_df.isna().sum()"
      ]
    },
    {
      "cell_type": "code",
      "execution_count": null,
      "metadata": {
        "colab": {
          "base_uri": "https://localhost:8080/",
          "height": 337
        },
        "id": "rgiyHD51REAe",
        "outputId": "3e196357-6e0b-4af2-b9d9-cdf5754a135c"
      },
      "outputs": [
        {
          "ename": "",
          "evalue": "",
          "output_type": "error",
          "traceback": [
            "\u001b[1;31mRunning cells with 'main-ds (Python 3.12.3)' requires the ipykernel package.\n",
            "\u001b[1;31mRun the following command to install 'ipykernel' into the Python environment. \n",
            "\u001b[1;31mCommand: 'conda install -n main-ds ipykernel --update-deps --force-reinstall'"
          ]
        }
      ],
      "source": [
        "print(\"Jumlah duplikasi: \", products_df.duplicated().sum())\n",
        "\n",
        "products_df.describe()"
      ]
    },
    {
      "cell_type": "code",
      "execution_count": null,
      "metadata": {
        "colab": {
          "base_uri": "https://localhost:8080/",
          "height": 303
        },
        "id": "4nTziSjY4njd",
        "outputId": "0cc56892-8e44-4673-cb75-2d1fc605d2eb"
      },
      "outputs": [
        {
          "ename": "",
          "evalue": "",
          "output_type": "error",
          "traceback": [
            "\u001b[1;31mRunning cells with 'main-ds (Python 3.12.3)' requires the ipykernel package.\n",
            "\u001b[1;31mRun the following command to install 'ipykernel' into the Python environment. \n",
            "\u001b[1;31mCommand: 'conda install -n main-ds ipykernel --update-deps --force-reinstall'"
          ]
        }
      ],
      "source": [
        "#Menilai Data product_category_translation_df\n",
        "product_category_translation_df.info()\n",
        "\n",
        "product_category_translation_df.isna().sum()"
      ]
    },
    {
      "cell_type": "code",
      "execution_count": null,
      "metadata": {
        "colab": {
          "base_uri": "https://localhost:8080/"
        },
        "id": "RyMi_SR4WcXl",
        "outputId": "1d0e9006-a343-48c4-f2ea-27ae2beec8d0"
      },
      "outputs": [
        {
          "ename": "",
          "evalue": "",
          "output_type": "error",
          "traceback": [
            "\u001b[1;31mRunning cells with 'main-ds (Python 3.12.3)' requires the ipykernel package.\n",
            "\u001b[1;31mRun the following command to install 'ipykernel' into the Python environment. \n",
            "\u001b[1;31mCommand: 'conda install -n main-ds ipykernel --update-deps --force-reinstall'"
          ]
        }
      ],
      "source": [
        "print(\"Jumlah duplikasi: \", product_category_translation_df.duplicated().sum())"
      ]
    },
    {
      "cell_type": "markdown",
      "metadata": {
        "id": "7dtxhAPrkhPL"
      },
      "source": [
        "**Insight:**\n",
        "\n",
        "\n",
        "📌 Data `orders_df`\n",
        "- ⚠ Kesalahan tipe data untuk kolom berikut (seharusnya `datetime`, bukan `object`):\n",
        "  - `order_purchase_timestamp`\n",
        "  - `order_approved_at`\n",
        "  - `order_delivered_carrier_date`\n",
        "  - `order_delivered_customer_date`\n",
        "  - `order_estimated_delivery_date`\n",
        "- kolom `order_approved_at`, `order_delivered_carrier_date`, dan `order_delivered_customer_date` terdapat missing value, namun tidak perlu diatasi. Hal itu karena setelah dilihat ternyata tiga kolom tersebut tidak memiliki nilai saat `order_status` nya canceled (dibatalkan). Sehingga make sense jika tidak ada nilainya. Kemudian setelah dipastikan lagi, ternyata ketiga kolom mengembalikan nilai False yang berarti ada status order Canceled pada tiga kolom tersebut yang memiliki tanggal. Jadi, mungkin saja bahwa pesanan dibatalkan saat sudah payment atau kondisi lainnya.\n",
        "\n",
        "📌 Data `order_items_df`\n",
        "- ⚠ Kesalahan tipe data untuk kolom `shipping_limit_date` (seharusnya `datetime`, bukan `object`)\n",
        "\n",
        "📌 Data `products_df`\n",
        "- 🔴 inaccurate value  pada nilai minimum kolom `product_weight_g` karena tidak mungkin beratnya 0 gram.\n",
        "- ❌ 610 missing value pada kolom:\n",
        "  - `product_category_name`\n",
        "  - `product_name_lenght`\n",
        "  - `product_description_lenght`\n",
        "  - `product_photos_qty`\n",
        "- ❌ 2 missing value pada kolom:\n",
        "  - `product_weight_g`\n",
        "  - `product_length_cm`\n",
        "  - `product_height_cm`\n",
        "  - `product_width_cm`\n",
        "- Karena kategori produknya sendiri sangat beragam jenis, sehingga jika terdapat berat, panjang, maupun tinggi produk yang kontras dengan yang lain itu mungkin saja."
      ]
    },
    {
      "cell_type": "markdown",
      "metadata": {
        "id": "EhN5R4hr8DC1"
      },
      "source": [
        "### Cleaning Data"
      ]
    },
    {
      "cell_type": "code",
      "execution_count": null,
      "metadata": {
        "colab": {
          "base_uri": "https://localhost:8080/"
        },
        "id": "Ds996briyNE1",
        "outputId": "4605506c-636a-4a48-8ed7-369fe273c902"
      },
      "outputs": [
        {
          "ename": "",
          "evalue": "",
          "output_type": "error",
          "traceback": [
            "\u001b[1;31mRunning cells with 'main-ds (Python 3.12.3)' requires the ipykernel package.\n",
            "\u001b[1;31mRun the following command to install 'ipykernel' into the Python environment. \n",
            "\u001b[1;31mCommand: 'conda install -n main-ds ipykernel --update-deps --force-reinstall'"
          ]
        }
      ],
      "source": [
        "#Membersihkan Data orders_df\n",
        "\n",
        "#Mengatasi Kesalahan Tipe Data\n",
        "datetime_columns = [\"order_purchase_timestamp\", \"order_approved_at\",\n",
        "    \"order_delivered_carrier_date\", \"order_delivered_customer_date\",\n",
        "    \"order_estimated_delivery_date\"\n",
        "]\n",
        "\n",
        "for column in datetime_columns:\n",
        "  orders_df[column] = pd.to_datetime(orders_df[column])\n",
        "\n",
        "orders_df.info()"
      ]
    },
    {
      "cell_type": "code",
      "execution_count": null,
      "metadata": {
        "colab": {
          "base_uri": "https://localhost:8080/",
          "height": 443
        },
        "id": "81pnCUcv5XRw",
        "outputId": "44c70317-b12e-4812-d5d8-11b24479475e"
      },
      "outputs": [
        {
          "ename": "",
          "evalue": "",
          "output_type": "error",
          "traceback": [
            "\u001b[1;31mRunning cells with 'main-ds (Python 3.12.3)' requires the ipykernel package.\n",
            "\u001b[1;31mRun the following command to install 'ipykernel' into the Python environment. \n",
            "\u001b[1;31mCommand: 'conda install -n main-ds ipykernel --update-deps --force-reinstall'"
          ]
        }
      ],
      "source": [
        "orders_df[orders_df.order_approved_at.isna()]"
      ]
    },
    {
      "cell_type": "code",
      "execution_count": null,
      "metadata": {
        "colab": {
          "base_uri": "https://localhost:8080/"
        },
        "id": "msy3YFlB7Mvn",
        "outputId": "cafbf2c4-407b-4ad8-9c06-f2b2fec228a2"
      },
      "outputs": [
        {
          "ename": "",
          "evalue": "",
          "output_type": "error",
          "traceback": [
            "\u001b[1;31mRunning cells with 'main-ds (Python 3.12.3)' requires the ipykernel package.\n",
            "\u001b[1;31mRun the following command to install 'ipykernel' into the Python environment. \n",
            "\u001b[1;31mCommand: 'conda install -n main-ds ipykernel --update-deps --force-reinstall'"
          ]
        }
      ],
      "source": [
        "#Membersihkan Data order_items_df\n",
        "\n",
        "#Mengatasi Kesalahan Tipe Data\n",
        "datetime_columns = [\"shipping_limit_date\"]\n",
        "\n",
        "for column in datetime_columns:\n",
        "  order_items_df[column] = pd.to_datetime(order_items_df[column])\n",
        "\n",
        "order_items_df.info()"
      ]
    },
    {
      "cell_type": "code",
      "execution_count": null,
      "metadata": {
        "colab": {
          "base_uri": "https://localhost:8080/",
          "height": 194
        },
        "id": "5ylaOXxVkH3T",
        "outputId": "2a9d6f38-9deb-4d7c-8d1d-002b1f791ef3"
      },
      "outputs": [
        {
          "ename": "",
          "evalue": "",
          "output_type": "error",
          "traceback": [
            "\u001b[1;31mRunning cells with 'main-ds (Python 3.12.3)' requires the ipykernel package.\n",
            "\u001b[1;31mRun the following command to install 'ipykernel' into the Python environment. \n",
            "\u001b[1;31mCommand: 'conda install -n main-ds ipykernel --update-deps --force-reinstall'"
          ]
        }
      ],
      "source": [
        "#Membersihkan Data products_df\n",
        "\n",
        "#Mengatasi Inaccurate Value\n",
        "products_df[products_df['product_weight_g'] == 0]"
      ]
    },
    {
      "cell_type": "code",
      "execution_count": null,
      "metadata": {
        "colab": {
          "base_uri": "https://localhost:8080/",
          "height": 320
        },
        "id": "bwVj7osej1RZ",
        "outputId": "72b59870-0c54-4696-dcee-ef031e81d1c9"
      },
      "outputs": [
        {
          "ename": "",
          "evalue": "",
          "output_type": "error",
          "traceback": [
            "\u001b[1;31mRunning cells with 'main-ds (Python 3.12.3)' requires the ipykernel package.\n",
            "\u001b[1;31mRun the following command to install 'ipykernel' into the Python environment. \n",
            "\u001b[1;31mCommand: 'conda install -n main-ds ipykernel --update-deps --force-reinstall'"
          ]
        }
      ],
      "source": [
        "#Imputation dengan nilai median\n",
        "median_weight = products_df.loc[products_df['product_weight_g'] > 0, 'product_weight_g'].median()\n",
        "products_df.loc[products_df['product_weight_g'] == 0, 'product_weight_g'] = median_weight\n",
        "\n",
        "products_df.describe()"
      ]
    },
    {
      "cell_type": "code",
      "execution_count": null,
      "metadata": {
        "colab": {
          "base_uri": "https://localhost:8080/"
        },
        "id": "zOZJrTiezKXa",
        "outputId": "35a8e708-c908-4a2e-c21c-c7a3eea0cef3"
      },
      "outputs": [
        {
          "ename": "",
          "evalue": "",
          "output_type": "error",
          "traceback": [
            "\u001b[1;31mRunning cells with 'main-ds (Python 3.12.3)' requires the ipykernel package.\n",
            "\u001b[1;31mRun the following command to install 'ipykernel' into the Python environment. \n",
            "\u001b[1;31mCommand: 'conda install -n main-ds ipykernel --update-deps --force-reinstall'"
          ]
        }
      ],
      "source": [
        "#Mengatasi Missing Value\n",
        "#Data Kategorik\n",
        "kategori_dominan = products_df[\"product_category_name\"].mode()[0]\n",
        "products_df[\"product_category_name\"] = products_df[\"product_category_name\"].fillna(kategori_dominan)\n",
        "\n",
        "#Data Numerik\n",
        "numerical_cols = [\n",
        "    \"product_name_lenght\", \"product_description_lenght\", \"product_photos_qty\",\n",
        "    \"product_weight_g\", \"product_length_cm\", \"product_height_cm\", \"product_width_cm\"\n",
        "]\n",
        "for col in numerical_cols:\n",
        "    median_value = products_df[col].median()\n",
        "    products_df[col] = products_df[col].fillna(median_value)\n",
        "\n",
        "products_df.isnull().sum()\n",
        "products_df.info()"
      ]
    },
    {
      "cell_type": "markdown",
      "metadata": {
        "id": "Q_5ejIqckiSP"
      },
      "source": [
        "**Insight:**\n",
        "\n",
        "📌 Data `orders_df`\n",
        "- ⚠  Kesalahan tipe data = tipe sudah sesuai menjadi datetime.\n",
        "\n",
        "📌 Data `order_items_df`\n",
        "- ⚠ Kesalahan tipe data = tipe sudah sesuai menjadi datetime\n",
        "\n",
        "📌 Data `products_df`\n",
        "- 🔴 Inaccurate value = terdapat 4 produk yang sama dan memiliki berat 0 gram. Karena numerik, maka diatasi dengan imputasi dengan nilai median.\n",
        "- ❌ Missing value = data kategorik diatasi dengan imputasi menggunakan kategori yang paling dominan dan untuk data numerik diatasi dengan imputasi menggunakan nilai median yang lebih tahan terhadap pencilan.\n"
      ]
    },
    {
      "cell_type": "markdown",
      "metadata": {
        "id": "gp-Y6wU38DC1"
      },
      "source": [
        "## Exploratory Data Analysis (EDA)"
      ]
    },
    {
      "cell_type": "markdown",
      "metadata": {
        "id": "MW7WF2kr8DC1"
      },
      "source": [
        "### Explore ..."
      ]
    },
    {
      "cell_type": "code",
      "execution_count": null,
      "metadata": {
        "colab": {
          "base_uri": "https://localhost:8080/",
          "height": 443
        },
        "id": "e9CQCZjk8DC2",
        "outputId": "2fa760c8-dee7-4b94-97cc-5db30d8943b0"
      },
      "outputs": [
        {
          "ename": "",
          "evalue": "",
          "output_type": "error",
          "traceback": [
            "\u001b[1;31mRunning cells with 'main-ds (Python 3.12.3)' requires the ipykernel package.\n",
            "\u001b[1;31mRun the following command to install 'ipykernel' into the Python environment. \n",
            "\u001b[1;31mCommand: 'conda install -n main-ds ipykernel --update-deps --force-reinstall'"
          ]
        }
      ],
      "source": [
        "#Menggabungkan Data products_df dan product_category_translation_df\n",
        "products_df = pd.merge(\n",
        "    left=products_df,\n",
        "    right=product_category_translation_df,\n",
        "    how=\"left\",\n",
        "    left_on=\"product_category_name\",\n",
        "    right_on=\"product_category_name\"\n",
        ")\n",
        "\n",
        "products_df"
      ]
    },
    {
      "cell_type": "code",
      "execution_count": null,
      "metadata": {
        "colab": {
          "base_uri": "https://localhost:8080/",
          "height": 461
        },
        "id": "OsUe2-W2TjTq",
        "outputId": "8d0299d3-d6cd-4bd9-90d8-30f0da4e97b5"
      },
      "outputs": [
        {
          "ename": "",
          "evalue": "",
          "output_type": "error",
          "traceback": [
            "\u001b[1;31mRunning cells with 'main-ds (Python 3.12.3)' requires the ipykernel package.\n",
            "\u001b[1;31mRun the following command to install 'ipykernel' into the Python environment. \n",
            "\u001b[1;31mCommand: 'conda install -n main-ds ipykernel --update-deps --force-reinstall'"
          ]
        }
      ],
      "source": [
        "#Menggabungkan Data orders_df, order_items_df, dan customers_df\n",
        "orders_items_customers_df = orders_df.merge(order_items_df, on=\"order_id\").merge(customers_df, on=\"customer_id\")\n",
        "orders_items_customers_df"
      ]
    },
    {
      "cell_type": "code",
      "execution_count": null,
      "metadata": {
        "colab": {
          "base_uri": "https://localhost:8080/",
          "height": 443
        },
        "id": "4sji4D8jJqkS",
        "outputId": "81fefaf3-7dbb-4c54-e854-5af2f5468ba1"
      },
      "outputs": [
        {
          "ename": "",
          "evalue": "",
          "output_type": "error",
          "traceback": [
            "\u001b[1;31mRunning cells with 'main-ds (Python 3.12.3)' requires the ipykernel package.\n",
            "\u001b[1;31mRun the following command to install 'ipykernel' into the Python environment. \n",
            "\u001b[1;31mCommand: 'conda install -n main-ds ipykernel --update-deps --force-reinstall'"
          ]
        }
      ],
      "source": [
        "#Menggabungkan Data orders_items_customers_df dengan products_df\n",
        "orders_items_customers_products_df = orders_items_customers_df.merge(products_df, on=\"product_id\")\n",
        "orders_items_customers_products_df"
      ]
    },
    {
      "cell_type": "code",
      "execution_count": null,
      "metadata": {
        "colab": {
          "base_uri": "https://localhost:8080/",
          "height": 489
        },
        "id": "TILHMBWIVGDA",
        "outputId": "6a3b51ae-6bac-484c-fe3f-a5e409fc5581"
      },
      "outputs": [
        {
          "ename": "",
          "evalue": "",
          "output_type": "error",
          "traceback": [
            "\u001b[1;31mRunning cells with 'main-ds (Python 3.12.3)' requires the ipykernel package.\n",
            "\u001b[1;31mRun the following command to install 'ipykernel' into the Python environment. \n",
            "\u001b[1;31mCommand: 'conda install -n main-ds ipykernel --update-deps --force-reinstall'"
          ]
        }
      ],
      "source": [
        "#Menghitung jumlah pesanan per pelanggan\n",
        "order_counts_df = orders_items_customers_products_df.groupby(\"customer_unique_id\")[\"order_id\"].nunique()\n",
        "order_counts_df"
      ]
    },
    {
      "cell_type": "code",
      "execution_count": null,
      "metadata": {
        "colab": {
          "base_uri": "https://localhost:8080/",
          "height": 489
        },
        "id": "ECX8yzUchQMc",
        "outputId": "800b34c5-7839-465a-ae41-f8a9a098abd5"
      },
      "outputs": [
        {
          "ename": "",
          "evalue": "",
          "output_type": "error",
          "traceback": [
            "\u001b[1;31mRunning cells with 'main-ds (Python 3.12.3)' requires the ipykernel package.\n",
            "\u001b[1;31mRun the following command to install 'ipykernel' into the Python environment. \n",
            "\u001b[1;31mCommand: 'conda install -n main-ds ipykernel --update-deps --force-reinstall'"
          ]
        }
      ],
      "source": [
        "#Menghitung total belanja per pelanggan\n",
        "total_spent_df = orders_items_customers_products_df.groupby(\"customer_unique_id\")[\"price\"].sum()\n",
        "total_spent_df"
      ]
    },
    {
      "cell_type": "code",
      "execution_count": null,
      "metadata": {
        "colab": {
          "base_uri": "https://localhost:8080/"
        },
        "id": "QMkCBnQe9qBR",
        "outputId": "5a38be65-be56-46ef-82a5-0258a4737f37"
      },
      "outputs": [
        {
          "ename": "",
          "evalue": "",
          "output_type": "error",
          "traceback": [
            "\u001b[1;31mRunning cells with 'main-ds (Python 3.12.3)' requires the ipykernel package.\n",
            "\u001b[1;31mRun the following command to install 'ipykernel' into the Python environment. \n",
            "\u001b[1;31mCommand: 'conda install -n main-ds ipykernel --update-deps --force-reinstall'"
          ]
        }
      ],
      "source": [
        "# Menentukan tanggal referensi (misalnya, tanggal terakhir dalam dataset)\n",
        "reference_date = orders_df[\"order_purchase_timestamp\"].max()\n",
        "\n",
        "# Menghitung Recency (jumlah hari sejak pembelian terakhir)\n",
        "rfm_df = orders_items_customers_products_df.groupby(\"customer_unique_id\").agg({\n",
        "    \"order_purchase_timestamp\": lambda x: (reference_date - x.max()).days,\n",
        "    \"order_id\": \"nunique\",  # Frequency: jumlah pesanan unik\n",
        "    \"price\": \"sum\"  # Monetary: total uang yang dihabiskan\n",
        "}).reset_index()\n",
        "\n",
        "# Ubah nama kolom\n",
        "rfm_df.columns = [\"customer_unique_id\", \"Recency\", \"Frequency\", \"Monetary\"]\n",
        "\n",
        "# Melihat distribusi pelanggan\n",
        "print(rfm_df.describe())"
      ]
    },
    {
      "cell_type": "code",
      "execution_count": null,
      "metadata": {
        "colab": {
          "base_uri": "https://localhost:8080/",
          "height": 927
        },
        "id": "9uZZV-3PZLY-",
        "outputId": "47927b60-013c-4409-db65-9d9a79f60226"
      },
      "outputs": [
        {
          "ename": "",
          "evalue": "",
          "output_type": "error",
          "traceback": [
            "\u001b[1;31mRunning cells with 'main-ds (Python 3.12.3)' requires the ipykernel package.\n",
            "\u001b[1;31mRun the following command to install 'ipykernel' into the Python environment. \n",
            "\u001b[1;31mCommand: 'conda install -n main-ds ipykernel --update-deps --force-reinstall'"
          ]
        }
      ],
      "source": [
        "# Distribusi status pesanan per wilayah\n",
        "status_by_state_df = orders_items_customers_df.groupby([\"customer_state\", \"order_status\"]).size().unstack(fill_value=0)\n",
        "status_by_state_df"
      ]
    },
    {
      "cell_type": "code",
      "execution_count": null,
      "metadata": {
        "colab": {
          "base_uri": "https://localhost:8080/",
          "height": 899
        },
        "id": "XcL1mnKkYCKg",
        "outputId": "1bd57324-b46e-4a2d-c0f7-f899d50ba95d"
      },
      "outputs": [
        {
          "ename": "",
          "evalue": "",
          "output_type": "error",
          "traceback": [
            "\u001b[1;31mRunning cells with 'main-ds (Python 3.12.3)' requires the ipykernel package.\n",
            "\u001b[1;31mRun the following command to install 'ipykernel' into the Python environment. \n",
            "\u001b[1;31mCommand: 'conda install -n main-ds ipykernel --update-deps --force-reinstall'"
          ]
        }
      ],
      "source": [
        "#Menghitung jumlah pesanan per bulan\n",
        "orders_df[\"month_year\"] = orders_df[\"order_purchase_timestamp\"].dt.to_period(\"M\")\n",
        "monthly_orders_df = orders_df.groupby(\"month_year\")[\"order_id\"].count()\n",
        "\n",
        "monthly_orders_df"
      ]
    },
    {
      "cell_type": "code",
      "execution_count": null,
      "metadata": {
        "colab": {
          "base_uri": "https://localhost:8080/",
          "height": 423
        },
        "id": "Fr1CJagXYtWZ",
        "outputId": "a9603e64-1c4a-4914-bf2b-2f8ff0eef055"
      },
      "outputs": [
        {
          "ename": "",
          "evalue": "",
          "output_type": "error",
          "traceback": [
            "\u001b[1;31mRunning cells with 'main-ds (Python 3.12.3)' requires the ipykernel package.\n",
            "\u001b[1;31mRun the following command to install 'ipykernel' into the Python environment. \n",
            "\u001b[1;31mCommand: 'conda install -n main-ds ipykernel --update-deps --force-reinstall'"
          ]
        }
      ],
      "source": [
        "#Total revenue per produk\n",
        "product_revenue_df = orders_items_customers_products_df.groupby(\"product_category_name_english\")[\"price\"].sum().reset_index()\n",
        "product_revenue_df"
      ]
    },
    {
      "cell_type": "markdown",
      "metadata": {
        "id": "th_Lzl2Fkj9O"
      },
      "source": [
        "**Insight:**\n",
        "- Nama kategori produk sudah ada versi inggrisnya sehingga lebih mudah di mengerti dan analisis.\n",
        "- Mayoritas pelanggan sudah lama tidak melakukan pembelian\n",
        "- Mayoritas pelanggan hanya membeli sekali, namun tetap ada pelanggan loyal yang membeli sampai 16 kali\n",
        "- Pelanggan dengan total belanja tinggi cenderung melakukan pembelian lebih dari satu kali\n",
        "- Beberapa wilayah memiliki volume pesanan lebih tinggi dari yang lain\n",
        "- Kategori produk tertentu mendominasi total pendapatan bisnis\n",
        "- Jumlah pesanan setiap bulan sangat fluktuatif dan bervariasi\n"
      ]
    },
    {
      "cell_type": "markdown",
      "metadata": {
        "id": "zsyZjqak8DC2"
      },
      "source": [
        "## Visualization & Explanatory Analysis"
      ]
    },
    {
      "cell_type": "markdown",
      "metadata": {
        "id": "HZxOiQ6n8DC2"
      },
      "source": [
        "### Pertanyaan 1: Bagaimana karakteristik pelanggan dalam berbelanja dan memberikan pendapatan bagi bisnis?\n"
      ]
    },
    {
      "cell_type": "code",
      "execution_count": null,
      "metadata": {
        "id": "1swJUdAD8DC2"
      },
      "outputs": [
        {
          "ename": "",
          "evalue": "",
          "output_type": "error",
          "traceback": [
            "\u001b[1;31mRunning cells with 'main-ds (Python 3.12.3)' requires the ipykernel package.\n",
            "\u001b[1;31mRun the following command to install 'ipykernel' into the Python environment. \n",
            "\u001b[1;31mCommand: 'conda install -n main-ds ipykernel --update-deps --force-reinstall'"
          ]
        }
      ],
      "source": [
        "#Pelanggan dengan belanja tertinggi\n",
        "top_customers_df = total_spent_df.sort_values(ascending=False).head(10)"
      ]
    },
    {
      "cell_type": "code",
      "execution_count": null,
      "metadata": {
        "colab": {
          "base_uri": "https://localhost:8080/",
          "height": 594
        },
        "id": "nKXGuq5Ch_Zl",
        "outputId": "bc2d51bc-5eef-4f85-a31d-6fec9a185276"
      },
      "outputs": [
        {
          "ename": "",
          "evalue": "",
          "output_type": "error",
          "traceback": [
            "\u001b[1;31mRunning cells with 'main-ds (Python 3.12.3)' requires the ipykernel package.\n",
            "\u001b[1;31mRun the following command to install 'ipykernel' into the Python environment. \n",
            "\u001b[1;31mCommand: 'conda install -n main-ds ipykernel --update-deps --force-reinstall'"
          ]
        }
      ],
      "source": [
        "plt.figure(figsize=(10, 5))\n",
        "sns.barplot(x=top_customers_df.values, y=top_customers_df.index, palette=\"coolwarm\")\n",
        "plt.xlabel(\"Total Belanja (Rp)\")\n",
        "plt.ylabel(\"Customer ID\")\n",
        "plt.title(\"Top 10 Pelanggan dengan Total Belanja Tertinggi\")\n",
        "plt.show()"
      ]
    },
    {
      "cell_type": "markdown",
      "metadata": {
        "id": "DgHI7CiU8DC2"
      },
      "source": [
        "### Pertanyaan 2: Wilayah mana yang perlu ditingkatkan pemasaran dan diperbaiki layanan pengirimannya?"
      ]
    },
    {
      "cell_type": "code",
      "execution_count": null,
      "metadata": {
        "colab": {
          "base_uri": "https://localhost:8080/",
          "height": 707
        },
        "id": "SV3r-kRRYkN7",
        "outputId": "a76dc7aa-cb72-42cf-8716-bb0d93053705"
      },
      "outputs": [
        {
          "ename": "",
          "evalue": "",
          "output_type": "error",
          "traceback": [
            "\u001b[1;31mRunning cells with 'main-ds (Python 3.12.3)' requires the ipykernel package.\n",
            "\u001b[1;31mRun the following command to install 'ipykernel' into the Python environment. \n",
            "\u001b[1;31mCommand: 'conda install -n main-ds ipykernel --update-deps --force-reinstall'"
          ]
        }
      ],
      "source": [
        "orders_by_state_df = orders_items_customers_products_df[orders_items_customers_products_df[\"order_status\"] == \"canceled\"].groupby(\"customer_state\")[\"order_id\"].count().reset_index()\n",
        "orders_by_state_df = orders_by_state_df.rename(columns={\"order_id\": \"canceled\"})\n",
        "orders_by_state_df = orders_by_state_df.sort_values(by=\"canceled\", ascending=False)\n",
        "\n",
        "orders_by_state_df"
      ]
    },
    {
      "cell_type": "code",
      "execution_count": null,
      "metadata": {
        "colab": {
          "base_uri": "https://localhost:8080/",
          "height": 487
        },
        "id": "WZaFxLSQmtxR",
        "outputId": "0c9d87fb-a608-4aaa-c017-5c72a324edd7"
      },
      "outputs": [
        {
          "ename": "",
          "evalue": "",
          "output_type": "error",
          "traceback": [
            "\u001b[1;31mRunning cells with 'main-ds (Python 3.12.3)' requires the ipykernel package.\n",
            "\u001b[1;31mRun the following command to install 'ipykernel' into the Python environment. \n",
            "\u001b[1;31mCommand: 'conda install -n main-ds ipykernel --update-deps --force-reinstall'"
          ]
        }
      ],
      "source": [
        "orders_by_state_df = orders_by_state_df.sort_values(by=\"canceled\", ascending=False)\n",
        "\n",
        "colors = [\"lightblue\"] * len(orders_by_state_df)\n",
        "colors[0] = \"darkblue\"\n",
        "\n",
        "\n",
        "plt.figure(figsize=(10, 5))\n",
        "bars = plt.bar(orders_by_state_df[\"customer_state\"], orders_by_state_df[\"canceled\"], color=colors)\n",
        "\n",
        "\n",
        "for bar in bars:\n",
        "    plt.text(bar.get_x() + bar.get_width()/2, bar.get_height(), str(bar.get_height()),\n",
        "             ha=\"center\", va=\"bottom\", fontsize=10)\n",
        "\n",
        "plt.xlabel(\"Wilayah\", fontsize=10)\n",
        "plt.ylabel(\"Jumlah Pembatalan\", fontsize=10)\n",
        "\n",
        "plt.title(\"Jumlah Pembatalan Pesanan per Wilayah\")\n",
        "plt.xticks(rotation=0)\n",
        "plt.show()"
      ]
    },
    {
      "cell_type": "markdown",
      "metadata": {
        "id": "30y5bbzj2gGq"
      },
      "source": [
        "### Pertanyaan 3: Produk apa yang memberikan kontribusi terbesar dan terkecil terhadap pendapatan bisnis?\n"
      ]
    },
    {
      "cell_type": "code",
      "execution_count": null,
      "metadata": {
        "colab": {
          "base_uri": "https://localhost:8080/"
        },
        "id": "nHtLeIAIZsMT",
        "outputId": "03f7deca-5dd6-4374-e41b-a43eca03a520"
      },
      "outputs": [
        {
          "ename": "",
          "evalue": "",
          "output_type": "error",
          "traceback": [
            "\u001b[1;31mRunning cells with 'main-ds (Python 3.12.3)' requires the ipykernel package.\n",
            "\u001b[1;31mRun the following command to install 'ipykernel' into the Python environment. \n",
            "\u001b[1;31mCommand: 'conda install -n main-ds ipykernel --update-deps --force-reinstall'"
          ]
        }
      ],
      "source": [
        "#Produk yang memiliki kontribusi terkecil\n",
        "bottom_products_df = product_revenue_df.sort_values(\"price\", ascending=True).head(10)\n",
        "print(bottom_products_df)"
      ]
    },
    {
      "cell_type": "code",
      "execution_count": null,
      "metadata": {
        "colab": {
          "base_uri": "https://localhost:8080/"
        },
        "id": "s1smmyga2rIc",
        "outputId": "3f0cf18a-5a61-4f7d-90f7-04bb31cbabc3"
      },
      "outputs": [
        {
          "ename": "",
          "evalue": "",
          "output_type": "error",
          "traceback": [
            "\u001b[1;31mRunning cells with 'main-ds (Python 3.12.3)' requires the ipykernel package.\n",
            "\u001b[1;31mRun the following command to install 'ipykernel' into the Python environment. \n",
            "\u001b[1;31mCommand: 'conda install -n main-ds ipykernel --update-deps --force-reinstall'"
          ]
        }
      ],
      "source": [
        "#Produk yang memiliki kontribusi terbesar\n",
        "top_products_df = product_revenue_df.sort_values(\"price\", ascending=False).head(10)\n",
        "print(top_products_df)"
      ]
    },
    {
      "cell_type": "code",
      "execution_count": null,
      "metadata": {
        "colab": {
          "base_uri": "https://localhost:8080/",
          "height": 685
        },
        "id": "7pdrJigJQ7tE",
        "outputId": "7f715b87-9162-49aa-89ed-86ecf98fdd2e"
      },
      "outputs": [
        {
          "ename": "",
          "evalue": "",
          "output_type": "error",
          "traceback": [
            "\u001b[1;31mRunning cells with 'main-ds (Python 3.12.3)' requires the ipykernel package.\n",
            "\u001b[1;31mRun the following command to install 'ipykernel' into the Python environment. \n",
            "\u001b[1;31mCommand: 'conda install -n main-ds ipykernel --update-deps --force-reinstall'"
          ]
        }
      ],
      "source": [
        "#Visualisasi kategori produk dengan pendapatan tertinggi\n",
        "colors = [\"lightskyblue\"] * len(top_products_df)\n",
        "top_products_df_reset = top_products_df.reset_index()\n",
        "max_price_index = top_products_df_reset[\"price\"].idxmax()\n",
        "colors[max_price_index] = \"royalblue\"\n",
        "\n",
        "\n",
        "plt.figure(figsize=(10, 5))\n",
        "ax = sns.barplot(data=top_products_df, x=\"product_category_name_english\", y=\"price\",\n",
        "                 palette=colors)\n",
        "\n",
        "for p in ax.patches:\n",
        "    ax.annotate(f\"{p.get_height():,.0f}\",\n",
        "                (p.get_x() + p.get_width() / 2., p.get_height()),\n",
        "                ha='center', va='bottom', fontsize=10, fontweight='bold')\n",
        "\n",
        "plt.title(f\"Top 10 Product Categories by Revenue (Rp)\")\n",
        "\n",
        "plt.xticks(rotation=45, ha=\"right\")\n",
        "\n",
        "plt.xlabel(\"\")\n",
        "plt.ylabel(\"\")\n",
        "\n",
        "plt.show()"
      ]
    },
    {
      "cell_type": "markdown",
      "metadata": {
        "id": "S7D8WZht2rsq"
      },
      "source": [
        "### Pertanyaan 4: Bagaimana pola permintaan pelanggan sepanjang tahun dan apakah ada tren musiman yang dapat dimanfaatkan?"
      ]
    },
    {
      "cell_type": "code",
      "execution_count": null,
      "metadata": {
        "colab": {
          "base_uri": "https://localhost:8080/",
          "height": 519
        },
        "id": "j-IlwQBLl2La",
        "outputId": "f8f1397f-d2b2-484e-ead4-2185b2604c64"
      },
      "outputs": [
        {
          "ename": "",
          "evalue": "",
          "output_type": "error",
          "traceback": [
            "\u001b[1;31mRunning cells with 'main-ds (Python 3.12.3)' requires the ipykernel package.\n",
            "\u001b[1;31mRun the following command to install 'ipykernel' into the Python environment. \n",
            "\u001b[1;31mCommand: 'conda install -n main-ds ipykernel --update-deps --force-reinstall'"
          ]
        }
      ],
      "source": [
        "# Visualisasi tren pesanan bulanan\n",
        "plt.figure(figsize=(12,5))\n",
        "monthly_orders_df.plot(marker=\"o\")\n",
        "plt.title(\"Tren Jumlah Pesanan Bulanan\")\n",
        "plt.xlabel(\"Bulan\")\n",
        "plt.ylabel(\"Jumlah Pesanan\")\n",
        "plt.xticks(rotation=45)\n",
        "plt.show()"
      ]
    },
    {
      "cell_type": "markdown",
      "metadata": {
        "id": "c_v3Ur9Jl2lU"
      },
      "source": [
        "### Pertanyaan 5: Berapa persentase masing-masing status pesanan?"
      ]
    },
    {
      "cell_type": "code",
      "execution_count": null,
      "metadata": {
        "id": "3ZVTRkevl3W8"
      },
      "outputs": [
        {
          "ename": "",
          "evalue": "",
          "output_type": "error",
          "traceback": [
            "\u001b[1;31mRunning cells with 'main-ds (Python 3.12.3)' requires the ipykernel package.\n",
            "\u001b[1;31mRun the following command to install 'ipykernel' into the Python environment. \n",
            "\u001b[1;31mCommand: 'conda install -n main-ds ipykernel --update-deps --force-reinstall'"
          ]
        }
      ],
      "source": [
        "# Menghitung jumlah masing-masing status pesanan\n",
        "status_counts_df =  orders_df['order_status'].value_counts()\n",
        "\n",
        "# Menghitung persentase masing-masing status\n",
        "status_percentage_df = (status_counts_df / status_counts_df.sum()) * 100"
      ]
    },
    {
      "cell_type": "code",
      "execution_count": null,
      "metadata": {
        "colab": {
          "base_uri": "https://localhost:8080/",
          "height": 724
        },
        "id": "nC0NVEPdq28b",
        "outputId": "b23d518a-6d91-41e0-9f90-43d47cb38060"
      },
      "outputs": [
        {
          "ename": "",
          "evalue": "",
          "output_type": "error",
          "traceback": [
            "\u001b[1;31mRunning cells with 'main-ds (Python 3.12.3)' requires the ipykernel package.\n",
            "\u001b[1;31mRun the following command to install 'ipykernel' into the Python environment. \n",
            "\u001b[1;31mCommand: 'conda install -n main-ds ipykernel --update-deps --force-reinstall'"
          ]
        }
      ],
      "source": [
        "#Visualisasi\n",
        "plt.figure(figsize=(11, 6))\n",
        "ax = sns.barplot(x=status_percentage_df.index, y=status_percentage_df.values, palette=\"pastel\")\n",
        "\n",
        "for p in ax.patches:\n",
        "    ax.annotate(f\"{p.get_height():.2f}%\",\n",
        "                (p.get_x() + p.get_width() / 2, p.get_height()),\n",
        "                ha=\"center\", va=\"bottom\", fontsize=12, fontweight=\"bold\")\n",
        "\n",
        "plt.xlabel(\"Order Status\")\n",
        "plt.ylabel(\"Percentage (%)\")\n",
        "plt.title(\"Persentase Masing-Masing Status Pesanan\")\n",
        "plt.xticks(rotation=45)\n",
        "plt.grid(axis='y', linestyle='--', alpha=0.7)\n",
        "\n",
        "plt.show()"
      ]
    },
    {
      "cell_type": "markdown",
      "metadata": {
        "id": "_0-36BDLklRg"
      },
      "source": [
        "**Insight:**\n",
        "\n",
        "**Pertanyaan 1**\n",
        "- Sebagian besar pelanggan hanya melakukan 1-2 kali transaksi, namun tetap ada pelanggan yang sering berbelanja dan memberi pendapatan besar\n",
        "- Terdapat satu top pelanggan yang menyumbang pendapatan tertinggi terhadap bisnis dan memiliki selisih yang cukup jauh dengan pelanggan yang lain\n",
        "- Top pelanggan memiliki total belanja yang jauh lebih tinggi jika dibandingkan dengan rata-rata.\n",
        "\n",
        "\n",
        "**Pertanyaan 2**\n",
        "- Wilayah SP merupakan wilayah dengan pembatalan pesanan terbanyak sehingga menjadi salah satu wilayah yang perlu diperhatikan untuk memperbaiki layanan\n",
        "\n",
        "\n",
        "**Pertanyaan 3**\n",
        "- Health beauty menjadi produk dengan revenue tertinggi dan diikuti oleh produk bed bath table dan watches gift, yang mana mereka bertiga memiliki selisih yang sedikit.\n",
        "- Beberapa kategori produk mendominasi pendapatan, sedangkan beberapa kategori lainnya memiliki kontribusi yang sangat kecil.\n",
        "\n",
        "\n",
        "**Pertanyaan 4**\n",
        "- Jumlah pemesanan tiap bulannya sangat fluktuatif dan terlihat terdapat tren naik sampai sekitar awal tahun 2018.\n",
        "- Jumlah pemesanan tertinggi terjadi pada bulan November 2017\n",
        "- Namun, terjadi penurunan ekstrim dari bulan Juni ke Agustus 2018.\n",
        "\n",
        "\n",
        "**Pertanyaan 5**\n",
        "- Status pemesanan delivered mendominasi dibandingkan status yang lain. Hal tersebut artinya sebagian besar pesanan sukses"
      ]
    },
    {
      "cell_type": "markdown",
      "metadata": {
        "id": "9y4VUsmcYNZ5"
      },
      "source": [
        "## Analisis Lanjutan (Opsional)"
      ]
    },
    {
      "cell_type": "markdown",
      "metadata": {},
      "source": [
        "##ANALISIS RFM\n",
        "\n",
        "Analisis RFM (Recency, Frequency, Monetary) adalah metode segmentasi pelanggan yang digunakan untuk memahami perilaku pembelian pelanggan berdasarkan tiga metrik utama, yaitu:\n",
        "1. Recency (Jumlah hari sejak transaksi terakhir pelanggan)\n",
        "\n",
        "Bertujuan untuk mengukur seberapa baru interaksi terakhir pelanggan dengan toko/bisnis. Semakin kecil nilainya, maka semakin aktif pelanggan tersebut.\n",
        "2. Frequency (Jumlah pesanan unik yang dilakukan pelanggan)\n",
        "\n",
        "Bertujuan untuk mengukur seberapa sering pelanggan berbelanja. Pelanggan yang memiliki frekuensi tinggi maka dia loyal.\n",
        "3. Monetary(Total nilai belanja pelanggan)\n",
        "\n",
        "Bertujuan mengukur berapa banyak uang yang sudah dihabiskan oleh pelanggan. Dengan ini, bisa mengetahui pelanggan siapa yang paling berkontribusi banyak terhadap pendapatan. \n",
        "\n",
        "\n",
        "Dengan menggunakan RFM, kita bisa membuat strategi dan solusi yang tepat sasaran dalam dunia bisnis."
      ]
    },
    {
      "cell_type": "markdown",
      "metadata": {
        "id": "_WeHlCeX8DC2"
      },
      "source": [
        "## Conclusion"
      ]
    },
    {
      "cell_type": "markdown",
      "metadata": {
        "id": "ZTcyR48Y8DC2"
      },
      "source": [
        "-  Karakteristik pelanggan dalam berbelanja dan memberikan pendapatan bagi bisnis yaitu :    \n",
        "\n",
        "  1. Mayoritas pelanggan hanya belanja satu kali dengan nominal bervariasi\n",
        "  2. Banyak pelanggan yang sudah lama tidak berbelanja\n",
        "  3. Terdapat pelanggan loyal dan berkontribusi besar ke revenue\n",
        "  4. Sebagian pelanggan memiliki monetary cukup rendah\n",
        "\n",
        "  Saran dan solusi:\n",
        "  1. Email marketing\n",
        "  2. Diskon dan cashback untuk repeat order\n",
        "  3. Strategi Loyalty program\n",
        "  4. Terdapat Gratis Ongkir di atas nominal tertentu\n",
        "\n",
        "- Perlu meningkatkan pemasaran dan memperbaiki layanan pengiriman di wilayah SP. Selain itu, wilayah dengan volume pesanan tinggi beresiko lebih besar terlambat dalam pengiriman.\n",
        "\n",
        "  Saran dan Solusi:\n",
        "  1. Bekerja sama dengan banyak penyedia layanan pengiriman di wilayah pembatalan tinggi yaitu SP\n",
        "  2. Analisis lebih lanjut penyebab pembatalan pesanan\n",
        "\n",
        "\n",
        "-  Produk health beauty memberikan kontribusi terbesar sedangkan  security and services memberikan kontribusi terkecil terhadap pendapatan bisnis\n",
        "\n",
        "  Saran dan solusi:\n",
        "  1. Meningkatkan stok dan strategi pemasaran pada produk dengan kontribusi pendapatan tinggi\n",
        "  2. Evaluasi strategi harga dan promosi pada produk yang berkontribusi rendah\n",
        "\n",
        "- Pola permintaan pelanggan sepanjang tahun sangat fluktuatif dan menunjukkan adanya tren.\n",
        "\n",
        "  Saran dan solusi : Prediksi dan siapkan stok produk lebih awal dalam menghadapi lonjakan permintaan dibulan tertentu\n",
        "\n",
        "- Status pesanan didominasi oleh delivered yang mencapai 97,02% dan sisanya yaitu 1,11% shipped, 0,63% canceled, 0,61% unavailable, 0,32% invoiced, 0,3% processing, dan 0,01% created.\n",
        "\n",
        "  Saran dan solusi: Mengoptimalkan proses konfirmasi dan validasi pesanan untuk mengurangi pembatalan.\n",
        "\n",
        "\n"
      ]
    },
    {
      "cell_type": "markdown",
      "metadata": {},
      "source": []
    }
  ],
  "metadata": {
    "colab": {
      "collapsed_sections": [
        "9y4VUsmcYNZ5"
      ],
      "provenance": []
    },
    "kernelspec": {
      "display_name": "main-ds",
      "language": "python",
      "name": "python3"
    },
    "language_info": {
      "name": "python",
      "version": "3.12.3"
    },
    "orig_nbformat": 4
  },
  "nbformat": 4,
  "nbformat_minor": 0
}
